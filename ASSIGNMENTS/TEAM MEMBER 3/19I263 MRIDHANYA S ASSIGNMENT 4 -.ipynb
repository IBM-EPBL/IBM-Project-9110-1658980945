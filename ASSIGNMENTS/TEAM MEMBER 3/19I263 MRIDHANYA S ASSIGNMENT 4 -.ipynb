{
  "nbformat": 4,
  "nbformat_minor": 0,
  "metadata": {
    "colab": {
      "provenance": [],
      "collapsed_sections": []
    },
    "kernelspec": {
      "name": "python3",
      "display_name": "Python 3"
    },
    "language_info": {
      "name": "python"
    }
  },
  "cells": [
    {
      "cell_type": "code",
      "execution_count": 1,
      "metadata": {
        "id": "itkaE5x414JR"
      },
      "outputs": [],
      "source": [
        "import numpy as np\n",
        "import pandas as pd\n",
        "import matplotlib.pyplot as plt\n",
        "import seaborn as sns\n",
        "import warnings\n",
        "warnings.filterwarnings('ignore')"
      ]
    },
    {
      "cell_type": "markdown",
      "source": [
        "2. Load the dataset into the tool"
      ],
      "metadata": {
        "id": "fuNHEqlT3owE"
      }
    },
    {
      "cell_type": "code",
      "source": [
        "data=pd.read_csv(\"Mall_Customers.csv\")"
      ],
      "metadata": {
        "id": "XVWLxc9s3pdn"
      },
      "execution_count": 2,
      "outputs": []
    },
    {
      "cell_type": "code",
      "source": [
        "data.head()"
      ],
      "metadata": {
        "colab": {
          "base_uri": "https://localhost:8080/",
          "height": 206
        },
        "id": "DJBuZsAn4Xd6",
        "outputId": "30592b51-7859-4eae-b627-c1fc88df562c"
      },
      "execution_count": 3,
      "outputs": [
        {
          "output_type": "execute_result",
          "data": {
            "text/plain": [
              "   CustomerID  Gender  Age  Annual Income (k$)  Spending Score (1-100)\n",
              "0           1    Male   19                  15                      39\n",
              "1           2    Male   21                  15                      81\n",
              "2           3  Female   20                  16                       6\n",
              "3           4  Female   23                  16                      77\n",
              "4           5  Female   31                  17                      40"
            ],
            "text/html": [
              "\n",
              "  <div id=\"df-3349a0c6-b95d-48f0-8b98-50ea19d84216\">\n",
              "    <div class=\"colab-df-container\">\n",
              "      <div>\n",
              "<style scoped>\n",
              "    .dataframe tbody tr th:only-of-type {\n",
              "        vertical-align: middle;\n",
              "    }\n",
              "\n",
              "    .dataframe tbody tr th {\n",
              "        vertical-align: top;\n",
              "    }\n",
              "\n",
              "    .dataframe thead th {\n",
              "        text-align: right;\n",
              "    }\n",
              "</style>\n",
              "<table border=\"1\" class=\"dataframe\">\n",
              "  <thead>\n",
              "    <tr style=\"text-align: right;\">\n",
              "      <th></th>\n",
              "      <th>CustomerID</th>\n",
              "      <th>Gender</th>\n",
              "      <th>Age</th>\n",
              "      <th>Annual Income (k$)</th>\n",
              "      <th>Spending Score (1-100)</th>\n",
              "    </tr>\n",
              "  </thead>\n",
              "  <tbody>\n",
              "    <tr>\n",
              "      <th>0</th>\n",
              "      <td>1</td>\n",
              "      <td>Male</td>\n",
              "      <td>19</td>\n",
              "      <td>15</td>\n",
              "      <td>39</td>\n",
              "    </tr>\n",
              "    <tr>\n",
              "      <th>1</th>\n",
              "      <td>2</td>\n",
              "      <td>Male</td>\n",
              "      <td>21</td>\n",
              "      <td>15</td>\n",
              "      <td>81</td>\n",
              "    </tr>\n",
              "    <tr>\n",
              "      <th>2</th>\n",
              "      <td>3</td>\n",
              "      <td>Female</td>\n",
              "      <td>20</td>\n",
              "      <td>16</td>\n",
              "      <td>6</td>\n",
              "    </tr>\n",
              "    <tr>\n",
              "      <th>3</th>\n",
              "      <td>4</td>\n",
              "      <td>Female</td>\n",
              "      <td>23</td>\n",
              "      <td>16</td>\n",
              "      <td>77</td>\n",
              "    </tr>\n",
              "    <tr>\n",
              "      <th>4</th>\n",
              "      <td>5</td>\n",
              "      <td>Female</td>\n",
              "      <td>31</td>\n",
              "      <td>17</td>\n",
              "      <td>40</td>\n",
              "    </tr>\n",
              "  </tbody>\n",
              "</table>\n",
              "</div>\n",
              "      <button class=\"colab-df-convert\" onclick=\"convertToInteractive('df-3349a0c6-b95d-48f0-8b98-50ea19d84216')\"\n",
              "              title=\"Convert this dataframe to an interactive table.\"\n",
              "              style=\"display:none;\">\n",
              "        \n",
              "  <svg xmlns=\"http://www.w3.org/2000/svg\" height=\"24px\"viewBox=\"0 0 24 24\"\n",
              "       width=\"24px\">\n",
              "    <path d=\"M0 0h24v24H0V0z\" fill=\"none\"/>\n",
              "    <path d=\"M18.56 5.44l.94 2.06.94-2.06 2.06-.94-2.06-.94-.94-2.06-.94 2.06-2.06.94zm-11 1L8.5 8.5l.94-2.06 2.06-.94-2.06-.94L8.5 2.5l-.94 2.06-2.06.94zm10 10l.94 2.06.94-2.06 2.06-.94-2.06-.94-.94-2.06-.94 2.06-2.06.94z\"/><path d=\"M17.41 7.96l-1.37-1.37c-.4-.4-.92-.59-1.43-.59-.52 0-1.04.2-1.43.59L10.3 9.45l-7.72 7.72c-.78.78-.78 2.05 0 2.83L4 21.41c.39.39.9.59 1.41.59.51 0 1.02-.2 1.41-.59l7.78-7.78 2.81-2.81c.8-.78.8-2.07 0-2.86zM5.41 20L4 18.59l7.72-7.72 1.47 1.35L5.41 20z\"/>\n",
              "  </svg>\n",
              "      </button>\n",
              "      \n",
              "  <style>\n",
              "    .colab-df-container {\n",
              "      display:flex;\n",
              "      flex-wrap:wrap;\n",
              "      gap: 12px;\n",
              "    }\n",
              "\n",
              "    .colab-df-convert {\n",
              "      background-color: #E8F0FE;\n",
              "      border: none;\n",
              "      border-radius: 50%;\n",
              "      cursor: pointer;\n",
              "      display: none;\n",
              "      fill: #1967D2;\n",
              "      height: 32px;\n",
              "      padding: 0 0 0 0;\n",
              "      width: 32px;\n",
              "    }\n",
              "\n",
              "    .colab-df-convert:hover {\n",
              "      background-color: #E2EBFA;\n",
              "      box-shadow: 0px 1px 2px rgba(60, 64, 67, 0.3), 0px 1px 3px 1px rgba(60, 64, 67, 0.15);\n",
              "      fill: #174EA6;\n",
              "    }\n",
              "\n",
              "    [theme=dark] .colab-df-convert {\n",
              "      background-color: #3B4455;\n",
              "      fill: #D2E3FC;\n",
              "    }\n",
              "\n",
              "    [theme=dark] .colab-df-convert:hover {\n",
              "      background-color: #434B5C;\n",
              "      box-shadow: 0px 1px 3px 1px rgba(0, 0, 0, 0.15);\n",
              "      filter: drop-shadow(0px 1px 2px rgba(0, 0, 0, 0.3));\n",
              "      fill: #FFFFFF;\n",
              "    }\n",
              "  </style>\n",
              "\n",
              "      <script>\n",
              "        const buttonEl =\n",
              "          document.querySelector('#df-3349a0c6-b95d-48f0-8b98-50ea19d84216 button.colab-df-convert');\n",
              "        buttonEl.style.display =\n",
              "          google.colab.kernel.accessAllowed ? 'block' : 'none';\n",
              "\n",
              "        async function convertToInteractive(key) {\n",
              "          const element = document.querySelector('#df-3349a0c6-b95d-48f0-8b98-50ea19d84216');\n",
              "          const dataTable =\n",
              "            await google.colab.kernel.invokeFunction('convertToInteractive',\n",
              "                                                     [key], {});\n",
              "          if (!dataTable) return;\n",
              "\n",
              "          const docLinkHtml = 'Like what you see? Visit the ' +\n",
              "            '<a target=\"_blank\" href=https://colab.research.google.com/notebooks/data_table.ipynb>data table notebook</a>'\n",
              "            + ' to learn more about interactive tables.';\n",
              "          element.innerHTML = '';\n",
              "          dataTable['output_type'] = 'display_data';\n",
              "          await google.colab.output.renderOutput(dataTable, element);\n",
              "          const docLink = document.createElement('div');\n",
              "          docLink.innerHTML = docLinkHtml;\n",
              "          element.appendChild(docLink);\n",
              "        }\n",
              "      </script>\n",
              "    </div>\n",
              "  </div>\n",
              "  "
            ]
          },
          "metadata": {},
          "execution_count": 3
        }
      ]
    },
    {
      "cell_type": "markdown",
      "source": [
        "3. Perform Below Visualizations."
      ],
      "metadata": {
        "id": "2-e8rdCX4SMO"
      }
    },
    {
      "cell_type": "markdown",
      "source": [
        "Univariate Analysis"
      ],
      "metadata": {
        "id": "VEBwXMqT4Tbb"
      }
    },
    {
      "cell_type": "code",
      "source": [
        "plt.hist(data['Age']);\n",
        "plt.xlabel('Age');\n",
        "plt.show();"
      ],
      "metadata": {
        "colab": {
          "base_uri": "https://localhost:8080/",
          "height": 279
        },
        "id": "rshYIRUi4WoU",
        "outputId": "bbbbf483-e094-4137-b276-a80559a07578"
      },
      "execution_count": 4,
      "outputs": [
        {
          "output_type": "display_data",
          "data": {
            "text/plain": [
              "<Figure size 432x288 with 1 Axes>"
            ],
            "image/png": "[encoded data removed]"
          },
          "metadata": {
            "needs_background": "light"
          }
        }
      ]
    },
    {
      "cell_type": "code",
      "source": [
        "plt.hist(data['Gender']);\n",
        "plt.xlabel('Gender');\n",
        "plt.show();\n"
      ],
      "metadata": {
        "colab": {
          "base_uri": "https://localhost:8080/",
          "height": 279
        },
        "id": "ajofzzAp4i__",
        "outputId": "2ae0b79c-1fc0-40f9-a8c7-7f149413af75"
      },
      "execution_count": 5,
      "outputs": [
        {
          "output_type": "display_data",
          "data": {
            "text/plain": [
              "<Figure size 432x288 with 1 Axes>"
            ],
            "image/png": "[encoded data removed]"
          },
          "metadata": {
            "needs_background": "light"
          }
        }
      ]
    },
    {
      "cell_type": "code",
      "source": [
        "plt.hist(data['Annual Income (k$)']);\n",
        "plt.xlabel('Annual Income (k$)');\n",
        "plt.show();"
      ],
      "metadata": {
        "colab": {
          "base_uri": "https://localhost:8080/",
          "height": 279
        },
        "id": "5iSALt5w4tAW",
        "outputId": "e0e5a3c6-3922-4b6a-b3d4-6f8ec5c157ab"
      },
      "execution_count": 6,
      "outputs": [
        {
          "output_type": "display_data",
          "data": {
            "text/plain": [
              "<Figure size 432x288 with 1 Axes>"
            ],
            "image/png": "[encoded data removed]"
          },
          "metadata": {
            "needs_background": "light"
          }
        }
      ]
    },
    {
      "cell_type": "code",
      "source": [
        "plt.hist(data['Spending Score (1-100)']);\n",
        "plt.xlabel('Spending Score (1-100)');\n",
        "plt.show();"
      ],
      "metadata": {
        "colab": {
          "base_uri": "https://localhost:8080/",
          "height": 279
        },
        "id": "Yu3aRL9y4vbA",
        "outputId": "4cbafbcd-8bc6-4aca-eb6b-df4088dedbc6"
      },
      "execution_count": 7,
      "outputs": [
        {
          "output_type": "display_data",
          "data": {
            "text/plain": [
              "<Figure size 432x288 with 1 Axes>"
            ],
            "image/png": "[encoded data removed]"
          },
          "metadata": {
            "needs_background": "light"
          }
        }
      ]
    },
    {
      "cell_type": "code",
      "source": [
        "plt.scatter(data.index,data['Gender'])\n",
        "plt.show()"
      ],
      "metadata": {
        "colab": {
          "base_uri": "https://localhost:8080/",
          "height": 265
        },
        "id": "Gi1xoi8341ua",
        "outputId": "dd8c89cd-5822-46d0-fe1c-e01ff0936996"
      },
      "execution_count": 8,
      "outputs": [
        {
          "output_type": "display_data",
          "data": {
            "text/plain": [
              "<Figure size 432x288 with 1 Axes>"
            ],
            "image/png": "[encoded data removed]"
          },
          "metadata": {
            "needs_background": "light"
          }
        }
      ]
    },
    {
      "cell_type": "code",
      "source": [
        "plt.scatter(data.index,data['Age'])"
      ],
      "metadata": {
        "colab": {
          "base_uri": "https://localhost:8080/",
          "height": 282
        },
        "id": "jOW77YAY435C",
        "outputId": "def2e2e7-5950-40a8-b4ed-a37a56266fad"
      },
      "execution_count": 9,
      "outputs": [
        {
          "output_type": "execute_result",
          "data": {
            "text/plain": [
              "<matplotlib.collections.PathCollection at 0x7fa00dafa190>"
            ]
          },
          "metadata": {},
          "execution_count": 9
        },
        {
          "output_type": "display_data",
          "data": {
            "text/plain": [
              "<Figure size 432x288 with 1 Axes>"
            ],
            "image/png": "[encoded data removed]"
          },
          "metadata": {
            "needs_background": "light"
          }
        }
      ]
    },
    {
      "cell_type": "code",
      "source": [
        "plt.scatter(data.index,data['Annual Income (k$)'])\n"
      ],
      "metadata": {
        "colab": {
          "base_uri": "https://localhost:8080/",
          "height": 282
        },
        "id": "e40kZCk747O0",
        "outputId": "a1513d5d-d74d-4103-d32a-9ca9375e0503"
      },
      "execution_count": 10,
      "outputs": [
        {
          "output_type": "execute_result",
          "data": {
            "text/plain": [
              "<matplotlib.collections.PathCollection at 0x7fa00dade410>"
            ]
          },
          "metadata": {},
          "execution_count": 10
        },
        {
          "output_type": "display_data",
          "data": {
            "text/plain": [
              "<Figure size 432x288 with 1 Axes>"
            ],
            "image/png": "[encoded data removed]"
          },
          "metadata": {
            "needs_background": "light"
          }
        }
      ]
    },
    {
      "cell_type": "code",
      "source": [
        "plt.scatter(data.index,data['Spending Score (1-100)'])"
      ],
      "metadata": {
        "colab": {
          "base_uri": "https://localhost:8080/",
          "height": 282
        },
        "id": "XosNR3YO49sC",
        "outputId": "f6b3a413-bc73-476f-db8c-09100e3dc715"
      },
      "execution_count": 11,
      "outputs": [
        {
          "output_type": "execute_result",
          "data": {
            "text/plain": [
              "<matplotlib.collections.PathCollection at 0x7fa00dac6f90>"
            ]
          },
          "metadata": {},
          "execution_count": 11
        },
        {
          "output_type": "display_data",
          "data": {
            "text/plain": [
              "<Figure size 432x288 with 1 Axes>"
            ],
            "image/png": "[encoded data removed]"
          },
          "metadata": {
            "needs_background": "light"
          }
        }
      ]
    },
    {
      "cell_type": "markdown",
      "source": [
        "Bi- Variate Analysis"
      ],
      "metadata": {
        "id": "2X_osPF65Ivo"
      }
    },
    {
      "cell_type": "code",
      "source": [
        "sns.barplot(x='Gender',y='Spending Score (1-100)',data=data)"
      ],
      "metadata": {
        "colab": {
          "base_uri": "https://localhost:8080/",
          "height": 296
        },
        "id": "VygO7YjF5M2Q",
        "outputId": "1e5ea519-04c3-4c93-9c7e-b801e27d8987"
      },
      "execution_count": 12,
      "outputs": [
        {
          "output_type": "execute_result",
          "data": {
            "text/plain": [
              "<matplotlib.axes._subplots.AxesSubplot at 0x7fa00d9b7a50>"
            ]
          },
          "metadata": {},
          "execution_count": 12
        },
        {
          "output_type": "display_data",
          "data": {
            "text/plain": [
              "<Figure size 432x288 with 1 Axes>"
            ],
            "image/png": "[encoded data removed]"
          },
          "metadata": {
            "needs_background": "light"
          }
        }
      ]
    },
    {
      "cell_type": "code",
      "source": [
        "sns.barplot(x='Gender',y='Annual Income (k$)',data=data)"
      ],
      "metadata": {
        "colab": {
          "base_uri": "https://localhost:8080/",
          "height": 296
        },
        "id": "8HuXbYym5RV2",
        "outputId": "8723a662-1736-4b2a-823c-b419e46c9d32"
      },
      "execution_count": 13,
      "outputs": [
        {
          "output_type": "execute_result",
          "data": {
            "text/plain": [
              "<matplotlib.axes._subplots.AxesSubplot at 0x7fa00d946610>"
            ]
          },
          "metadata": {},
          "execution_count": 13
        },
        {
          "output_type": "display_data",
          "data": {
            "text/plain": [
              "<Figure size 432x288 with 1 Axes>"
            ],
            "image/png": "[encoded data removed]"
          },
          "metadata": {
            "needs_background": "light"
          }
        }
      ]
    },
    {
      "cell_type": "code",
      "source": [
        "sns.barplot(x='Age',y='Annual Income (k$)',data=data)"
      ],
      "metadata": {
        "colab": {
          "base_uri": "https://localhost:8080/",
          "height": 296
        },
        "id": "UHtOTvdR5Vbl",
        "outputId": "a0a94352-9a58-4bce-80de-df97734988b9"
      },
      "execution_count": 14,
      "outputs": [
        {
          "output_type": "execute_result",
          "data": {
            "text/plain": [
              "<matplotlib.axes._subplots.AxesSubplot at 0x7fa00d8d3d50>"
            ]
          },
          "metadata": {},
          "execution_count": 14
        },
        {
          "output_type": "display_data",
          "data": {
            "text/plain": [
              "<Figure size 432x288 with 1 Axes>"
            ],
            "image/png": "[encoded data removed]"
          },
          "metadata": {
            "needs_background": "light"
          }
        }
      ]
    },
    {
      "cell_type": "code",
      "source": [
        "sns.barplot(x='Gender',y='Age',data=data)"
      ],
      "metadata": {
        "colab": {
          "base_uri": "https://localhost:8080/",
          "height": 296
        },
        "id": "fBuUwoql5X9t",
        "outputId": "e143919e-5d33-4d5e-9971-5ab2d51552c1"
      },
      "execution_count": 15,
      "outputs": [
        {
          "output_type": "execute_result",
          "data": {
            "text/plain": [
              "<matplotlib.axes._subplots.AxesSubplot at 0x7fa00d6c1a50>"
            ]
          },
          "metadata": {},
          "execution_count": 15
        },
        {
          "output_type": "display_data",
          "data": {
            "text/plain": [
              "<Figure size 432x288 with 1 Axes>"
            ],
            "image/png": "[encoded data removed]"
          },
          "metadata": {
            "needs_background": "light"
          }
        }
      ]
    },
    {
      "cell_type": "code",
      "source": [
        "sns.barplot(x='Age',y='Spending Score (1-100)',data=data)"
      ],
      "metadata": {
        "colab": {
          "base_uri": "https://localhost:8080/",
          "height": 296
        },
        "id": "rpW6Jcuv5iSO",
        "outputId": "28786a0a-dac7-4370-ffe6-85bc988b92a5"
      },
      "execution_count": 16,
      "outputs": [
        {
          "output_type": "execute_result",
          "data": {
            "text/plain": [
              "<matplotlib.axes._subplots.AxesSubplot at 0x7fa00db60a10>"
            ]
          },
          "metadata": {},
          "execution_count": 16
        },
        {
          "output_type": "display_data",
          "data": {
            "text/plain": [
              "<Figure size 432x288 with 1 Axes>"
            ],
            "image/png": "[encoded data removed]"
          },
          "metadata": {
            "needs_background": "light"
          }
        }
      ]
    },
    {
      "cell_type": "code",
      "source": [
        "sns.lineplot(x=data[\"Age\"], y=data[\"Annual Income (k$)\"]);\n",
        "plt.xlabel('Age');\n",
        "plt.ylabel('Annual Income (k$)');\n",
        "plt.show();"
      ],
      "metadata": {
        "colab": {
          "base_uri": "https://localhost:8080/",
          "height": 279
        },
        "id": "5l_EwAZD5km3",
        "outputId": "9803b247-b63e-45b6-cd86-5ec69358247d"
      },
      "execution_count": 17,
      "outputs": [
        {
          "output_type": "display_data",
          "data": {
            "text/plain": [
              "<Figure size 432x288 with 1 Axes>"
            ],
            "image/png": "[encoded data removed]"
          },
          "metadata": {
            "needs_background": "light"
          }
        }
      ]
    },
    {
      "cell_type": "code",
      "source": [
        "sns.pairplot(data)"
      ],
      "metadata": {
        "colab": {
          "base_uri": "https://localhost:8080/",
          "height": 743
        },
        "id": "fBePkwIW6Q3g",
        "outputId": "3483c936-4f72-417b-e1c8-fba0cb3edd43"
      },
      "execution_count": 18,
      "outputs": [
        {
          "output_type": "execute_result",
          "data": {
            "text/plain": [
              "<seaborn.axisgrid.PairGrid at 0x7fa00d5b86d0>"
            ]
          },
          "metadata": {},
          "execution_count": 18
        },
        {
          "output_type": "display_data",
          "data": {
            "text/plain": [
              "<Figure size 720x720 with 20 Axes>"
            ],
            "image/png": "[encoded data removed]"
          },
          "metadata": {
            "needs_background": "light"
          }
        }
      ]
    },
    {
      "cell_type": "markdown",
      "source": [
        "Multi-Variate Analysis"
      ],
      "metadata": {
        "id": "nDXZKU9T6aIP"
      }
    },
    {
      "cell_type": "code",
      "source": [
        "sns.heatmap(data.corr(), annot=True);"
      ],
      "metadata": {
        "colab": {
          "base_uri": "https://localhost:8080/",
          "height": 377
        },
        "id": "rhFx32Om6V1I",
        "outputId": "c392944f-8d99-41bb-f4f2-fb244cc91638"
      },
      "execution_count": 19,
      "outputs": [
        {
          "output_type": "display_data",
          "data": {
            "text/plain": [
              "<Figure size 432x288 with 2 Axes>"
            ],
            "image/png": "[encoded data removed]"
          },
          "metadata": {
            "needs_background": "light"
          }
        }
      ]
    },
    {
      "cell_type": "markdown",
      "source": [
        "4. Perform descriptive statistics on the dataset."
      ],
      "metadata": {
        "id": "70RhmfI06gvQ"
      }
    },
    {
      "cell_type": "code",
      "source": [
        "data.describe()\n"
      ],
      "metadata": {
        "colab": {
          "base_uri": "https://localhost:8080/",
          "height": 300
        },
        "id": "xKeaX9aj6gYj",
        "outputId": "c8ed7e47-8069-411c-91c4-38156e402b73"
      },
      "execution_count": 20,
      "outputs": [
        {
          "output_type": "execute_result",
          "data": {
            "text/plain": [
              "       CustomerID         Age  Annual Income (k$)  Spending Score (1-100)\n",
              "count  200.000000  200.000000          200.000000              200.000000\n",
              "mean   100.500000   38.850000           60.560000               50.200000\n",
              "std     57.879185   13.969007           26.264721               25.823522\n",
              "min      1.000000   18.000000           15.000000                1.000000\n",
              "25%     50.750000   28.750000           41.500000               34.750000\n",
              "50%    100.500000   36.000000           61.500000               50.000000\n",
              "75%    150.250000   49.000000           78.000000               73.000000\n",
              "max    200.000000   70.000000          137.000000               99.000000"
            ],
            "text/html": [
              "\n",
              "  <div id=\"df-b1fea0f2-23a2-47bd-9e98-5ea43a0fe967\">\n",
              "    <div class=\"colab-df-container\">\n",
              "      <div>\n",
              "<style scoped>\n",
              "    .dataframe tbody tr th:only-of-type {\n",
              "        vertical-align: middle;\n",
              "    }\n",
              "\n",
              "    .dataframe tbody tr th {\n",
              "        vertical-align: top;\n",
              "    }\n",
              "\n",
              "    .dataframe thead th {\n",
              "        text-align: right;\n",
              "    }\n",
              "</style>\n",
              "<table border=\"1\" class=\"dataframe\">\n",
              "  <thead>\n",
              "    <tr style=\"text-align: right;\">\n",
              "      <th></th>\n",
              "      <th>CustomerID</th>\n",
              "      <th>Age</th>\n",
              "      <th>Annual Income (k$)</th>\n",
              "      <th>Spending Score (1-100)</th>\n",
              "    </tr>\n",
              "  </thead>\n",
              "  <tbody>\n",
              "    <tr>\n",
              "      <th>count</th>\n",
              "      <td>200.000000</td>\n",
              "      <td>200.000000</td>\n",
              "      <td>200.000000</td>\n",
              "      <td>200.000000</td>\n",
              "    </tr>\n",
              "    <tr>\n",
              "      <th>mean</th>\n",
              "      <td>100.500000</td>\n",
              "      <td>38.850000</td>\n",
              "      <td>60.560000</td>\n",
              "      <td>50.200000</td>\n",
              "    </tr>\n",
              "    <tr>\n",
              "      <th>std</th>\n",
              "      <td>57.879185</td>\n",
              "      <td>13.969007</td>\n",
              "      <td>26.264721</td>\n",
              "      <td>25.823522</td>\n",
              "    </tr>\n",
              "    <tr>\n",
              "      <th>min</th>\n",
              "      <td>1.000000</td>\n",
              "      <td>18.000000</td>\n",
              "      <td>15.000000</td>\n",
              "      <td>1.000000</td>\n",
              "    </tr>\n",
              "    <tr>\n",
              "      <th>25%</th>\n",
              "      <td>50.750000</td>\n",
              "      <td>28.750000</td>\n",
              "      <td>41.500000</td>\n",
              "      <td>34.750000</td>\n",
              "    </tr>\n",
              "    <tr>\n",
              "      <th>50%</th>\n",
              "      <td>100.500000</td>\n",
              "      <td>36.000000</td>\n",
              "      <td>61.500000</td>\n",
              "      <td>50.000000</td>\n",
              "    </tr>\n",
              "    <tr>\n",
              "      <th>75%</th>\n",
              "      <td>150.250000</td>\n",
              "      <td>49.000000</td>\n",
              "      <td>78.000000</td>\n",
              "      <td>73.000000</td>\n",
              "    </tr>\n",
              "    <tr>\n",
              "      <th>max</th>\n",
              "      <td>200.000000</td>\n",
              "      <td>70.000000</td>\n",
              "      <td>137.000000</td>\n",
              "      <td>99.000000</td>\n",
              "    </tr>\n",
              "  </tbody>\n",
              "</table>\n",
              "</div>\n",
              "      <button class=\"colab-df-convert\" onclick=\"convertToInteractive('df-b1fea0f2-23a2-47bd-9e98-5ea43a0fe967')\"\n",
              "              title=\"Convert this dataframe to an interactive table.\"\n",
              "              style=\"display:none;\">\n",
              "        \n",
              "  <svg xmlns=\"http://www.w3.org/2000/svg\" height=\"24px\"viewBox=\"0 0 24 24\"\n",
              "       width=\"24px\">\n",
              "    <path d=\"M0 0h24v24H0V0z\" fill=\"none\"/>\n",
              "    <path d=\"M18.56 5.44l.94 2.06.94-2.06 2.06-.94-2.06-.94-.94-2.06-.94 2.06-2.06.94zm-11 1L8.5 8.5l.94-2.06 2.06-.94-2.06-.94L8.5 2.5l-.94 2.06-2.06.94zm10 10l.94 2.06.94-2.06 2.06-.94-2.06-.94-.94-2.06-.94 2.06-2.06.94z\"/><path d=\"M17.41 7.96l-1.37-1.37c-.4-.4-.92-.59-1.43-.59-.52 0-1.04.2-1.43.59L10.3 9.45l-7.72 7.72c-.78.78-.78 2.05 0 2.83L4 21.41c.39.39.9.59 1.41.59.51 0 1.02-.2 1.41-.59l7.78-7.78 2.81-2.81c.8-.78.8-2.07 0-2.86zM5.41 20L4 18.59l7.72-7.72 1.47 1.35L5.41 20z\"/>\n",
              "  </svg>\n",
              "      </button>\n",
              "      \n",
              "  <style>\n",
              "    .colab-df-container {\n",
              "      display:flex;\n",
              "      flex-wrap:wrap;\n",
              "      gap: 12px;\n",
              "    }\n",
              "\n",
              "    .colab-df-convert {\n",
              "      background-color: #E8F0FE;\n",
              "      border: none;\n",
              "      border-radius: 50%;\n",
              "      cursor: pointer;\n",
              "      display: none;\n",
              "      fill: #1967D2;\n",
              "      height: 32px;\n",
              "      padding: 0 0 0 0;\n",
              "      width: 32px;\n",
              "    }\n",
              "\n",
              "    .colab-df-convert:hover {\n",
              "      background-color: #E2EBFA;\n",
              "      box-shadow: 0px 1px 2px rgba(60, 64, 67, 0.3), 0px 1px 3px 1px rgba(60, 64, 67, 0.15);\n",
              "      fill: #174EA6;\n",
              "    }\n",
              "\n",
              "    [theme=dark] .colab-df-convert {\n",
              "      background-color: #3B4455;\n",
              "      fill: #D2E3FC;\n",
              "    }\n",
              "\n",
              "    [theme=dark] .colab-df-convert:hover {\n",
              "      background-color: #434B5C;\n",
              "      box-shadow: 0px 1px 3px 1px rgba(0, 0, 0, 0.15);\n",
              "      filter: drop-shadow(0px 1px 2px rgba(0, 0, 0, 0.3));\n",
              "      fill: #FFFFFF;\n",
              "    }\n",
              "  </style>\n",
              "\n",
              "      <script>\n",
              "        const buttonEl =\n",
              "          document.querySelector('#df-b1fea0f2-23a2-47bd-9e98-5ea43a0fe967 button.colab-df-convert');\n",
              "        buttonEl.style.display =\n",
              "          google.colab.kernel.accessAllowed ? 'block' : 'none';\n",
              "\n",
              "        async function convertToInteractive(key) {\n",
              "          const element = document.querySelector('#df-b1fea0f2-23a2-47bd-9e98-5ea43a0fe967');\n",
              "          const dataTable =\n",
              "            await google.colab.kernel.invokeFunction('convertToInteractive',\n",
              "                                                     [key], {});\n",
              "          if (!dataTable) return;\n",
              "\n",
              "          const docLinkHtml = 'Like what you see? Visit the ' +\n",
              "            '<a target=\"_blank\" href=https://colab.research.google.com/notebooks/data_table.ipynb>data table notebook</a>'\n",
              "            + ' to learn more about interactive tables.';\n",
              "          element.innerHTML = '';\n",
              "          dataTable['output_type'] = 'display_data';\n",
              "          await google.colab.output.renderOutput(dataTable, element);\n",
              "          const docLink = document.createElement('div');\n",
              "          docLink.innerHTML = docLinkHtml;\n",
              "          element.appendChild(docLink);\n",
              "        }\n",
              "      </script>\n",
              "    </div>\n",
              "  </div>\n",
              "  "
            ]
          },
          "metadata": {},
          "execution_count": 20
        }
      ]
    },
    {
      "cell_type": "markdown",
      "source": [
        "5. Check for Missing values and deal with them."
      ],
      "metadata": {
        "id": "e9xpPS6a6oPn"
      }
    },
    {
      "cell_type": "code",
      "source": [
        "data.isna().any()"
      ],
      "metadata": {
        "colab": {
          "base_uri": "https://localhost:8080/"
        },
        "id": "h8P4nQTv6oyQ",
        "outputId": "c6b2aaca-0620-434a-8116-2b35779a868d"
      },
      "execution_count": 21,
      "outputs": [
        {
          "output_type": "execute_result",
          "data": {
            "text/plain": [
              "CustomerID                False\n",
              "Gender                    False\n",
              "Age                       False\n",
              "Annual Income (k$)        False\n",
              "Spending Score (1-100)    False\n",
              "dtype: bool"
            ]
          },
          "metadata": {},
          "execution_count": 21
        }
      ]
    },
    {
      "cell_type": "markdown",
      "source": [
        "6. Find the outliers and replace them outliers"
      ],
      "metadata": {
        "id": "BhUpXFel6vuC"
      }
    },
    {
      "cell_type": "code",
      "source": [
        "data.skew()"
      ],
      "metadata": {
        "colab": {
          "base_uri": "https://localhost:8080/"
        },
        "id": "MqZpUKLK6wrP",
        "outputId": "5edd26c4-88a5-4c0e-f78b-b3b46d9ca08a"
      },
      "execution_count": 22,
      "outputs": [
        {
          "output_type": "execute_result",
          "data": {
            "text/plain": [
              "CustomerID                0.000000\n",
              "Age                       0.485569\n",
              "Annual Income (k$)        0.321843\n",
              "Spending Score (1-100)   -0.047220\n",
              "dtype: float64"
            ]
          },
          "metadata": {},
          "execution_count": 22
        }
      ]
    },
    {
      "cell_type": "code",
      "source": [
        "data.drop('CustomerID',axis=1)"
      ],
      "metadata": {
        "colab": {
          "base_uri": "https://localhost:8080/",
          "height": 424
        },
        "id": "8yf2OPXV6y9f",
        "outputId": "44014deb-12b6-4817-839f-f6d7a08ab333"
      },
      "execution_count": 23,
      "outputs": [
        {
          "output_type": "execute_result",
          "data": {
            "text/plain": [
              "     Gender  Age  Annual Income (k$)  Spending Score (1-100)\n",
              "0      Male   19                  15                      39\n",
              "1      Male   21                  15                      81\n",
              "2    Female   20                  16                       6\n",
              "3    Female   23                  16                      77\n",
              "4    Female   31                  17                      40\n",
              "..      ...  ...                 ...                     ...\n",
              "195  Female   35                 120                      79\n",
              "196  Female   45                 126                      28\n",
              "197    Male   32                 126                      74\n",
              "198    Male   32                 137                      18\n",
              "199    Male   30                 137                      83\n",
              "\n",
              "[200 rows x 4 columns]"
            ],
            "text/html": [
              "\n",
              "  <div id=\"df-cdac2cec-43d2-43fa-939e-b782f6a58fc9\">\n",
              "    <div class=\"colab-df-container\">\n",
              "      <div>\n",
              "<style scoped>\n",
              "    .dataframe tbody tr th:only-of-type {\n",
              "        vertical-align: middle;\n",
              "    }\n",
              "\n",
              "    .dataframe tbody tr th {\n",
              "        vertical-align: top;\n",
              "    }\n",
              "\n",
              "    .dataframe thead th {\n",
              "        text-align: right;\n",
              "    }\n",
              "</style>\n",
              "<table border=\"1\" class=\"dataframe\">\n",
              "  <thead>\n",
              "    <tr style=\"text-align: right;\">\n",
              "      <th></th>\n",
              "      <th>Gender</th>\n",
              "      <th>Age</th>\n",
              "      <th>Annual Income (k$)</th>\n",
              "      <th>Spending Score (1-100)</th>\n",
              "    </tr>\n",
              "  </thead>\n",
              "  <tbody>\n",
              "    <tr>\n",
              "      <th>0</th>\n",
              "      <td>Male</td>\n",
              "      <td>19</td>\n",
              "      <td>15</td>\n",
              "      <td>39</td>\n",
              "    </tr>\n",
              "    <tr>\n",
              "      <th>1</th>\n",
              "      <td>Male</td>\n",
              "      <td>21</td>\n",
              "      <td>15</td>\n",
              "      <td>81</td>\n",
              "    </tr>\n",
              "    <tr>\n",
              "      <th>2</th>\n",
              "      <td>Female</td>\n",
              "      <td>20</td>\n",
              "      <td>16</td>\n",
              "      <td>6</td>\n",
              "    </tr>\n",
              "    <tr>\n",
              "      <th>3</th>\n",
              "      <td>Female</td>\n",
              "      <td>23</td>\n",
              "      <td>16</td>\n",
              "      <td>77</td>\n",
              "    </tr>\n",
              "    <tr>\n",
              "      <th>4</th>\n",
              "      <td>Female</td>\n",
              "      <td>31</td>\n",
              "      <td>17</td>\n",
              "      <td>40</td>\n",
              "    </tr>\n",
              "    <tr>\n",
              "      <th>...</th>\n",
              "      <td>...</td>\n",
              "      <td>...</td>\n",
              "      <td>...</td>\n",
              "      <td>...</td>\n",
              "    </tr>\n",
              "    <tr>\n",
              "      <th>195</th>\n",
              "      <td>Female</td>\n",
              "      <td>35</td>\n",
              "      <td>120</td>\n",
              "      <td>79</td>\n",
              "    </tr>\n",
              "    <tr>\n",
              "      <th>196</th>\n",
              "      <td>Female</td>\n",
              "      <td>45</td>\n",
              "      <td>126</td>\n",
              "      <td>28</td>\n",
              "    </tr>\n",
              "    <tr>\n",
              "      <th>197</th>\n",
              "      <td>Male</td>\n",
              "      <td>32</td>\n",
              "      <td>126</td>\n",
              "      <td>74</td>\n",
              "    </tr>\n",
              "    <tr>\n",
              "      <th>198</th>\n",
              "      <td>Male</td>\n",
              "      <td>32</td>\n",
              "      <td>137</td>\n",
              "      <td>18</td>\n",
              "    </tr>\n",
              "    <tr>\n",
              "      <th>199</th>\n",
              "      <td>Male</td>\n",
              "      <td>30</td>\n",
              "      <td>137</td>\n",
              "      <td>83</td>\n",
              "    </tr>\n",
              "  </tbody>\n",
              "</table>\n",
              "<p>200 rows × 4 columns</p>\n",
              "</div>\n",
              "      <button class=\"colab-df-convert\" onclick=\"convertToInteractive('df-cdac2cec-43d2-43fa-939e-b782f6a58fc9')\"\n",
              "              title=\"Convert this dataframe to an interactive table.\"\n",
              "              style=\"display:none;\">\n",
              "        \n",
              "  <svg xmlns=\"http://www.w3.org/2000/svg\" height=\"24px\"viewBox=\"0 0 24 24\"\n",
              "       width=\"24px\">\n",
              "    <path d=\"M0 0h24v24H0V0z\" fill=\"none\"/>\n",
              "    <path d=\"M18.56 5.44l.94 2.06.94-2.06 2.06-.94-2.06-.94-.94-2.06-.94 2.06-2.06.94zm-11 1L8.5 8.5l.94-2.06 2.06-.94-2.06-.94L8.5 2.5l-.94 2.06-2.06.94zm10 10l.94 2.06.94-2.06 2.06-.94-2.06-.94-.94-2.06-.94 2.06-2.06.94z\"/><path d=\"M17.41 7.96l-1.37-1.37c-.4-.4-.92-.59-1.43-.59-.52 0-1.04.2-1.43.59L10.3 9.45l-7.72 7.72c-.78.78-.78 2.05 0 2.83L4 21.41c.39.39.9.59 1.41.59.51 0 1.02-.2 1.41-.59l7.78-7.78 2.81-2.81c.8-.78.8-2.07 0-2.86zM5.41 20L4 18.59l7.72-7.72 1.47 1.35L5.41 20z\"/>\n",
              "  </svg>\n",
              "      </button>\n",
              "      \n",
              "  <style>\n",
              "    .colab-df-container {\n",
              "      display:flex;\n",
              "      flex-wrap:wrap;\n",
              "      gap: 12px;\n",
              "    }\n",
              "\n",
              "    .colab-df-convert {\n",
              "      background-color: #E8F0FE;\n",
              "      border: none;\n",
              "      border-radius: 50%;\n",
              "      cursor: pointer;\n",
              "      display: none;\n",
              "      fill: #1967D2;\n",
              "      height: 32px;\n",
              "      padding: 0 0 0 0;\n",
              "      width: 32px;\n",
              "    }\n",
              "\n",
              "    .colab-df-convert:hover {\n",
              "      background-color: #E2EBFA;\n",
              "      box-shadow: 0px 1px 2px rgba(60, 64, 67, 0.3), 0px 1px 3px 1px rgba(60, 64, 67, 0.15);\n",
              "      fill: #174EA6;\n",
              "    }\n",
              "\n",
              "    [theme=dark] .colab-df-convert {\n",
              "      background-color: #3B4455;\n",
              "      fill: #D2E3FC;\n",
              "    }\n",
              "\n",
              "    [theme=dark] .colab-df-convert:hover {\n",
              "      background-color: #434B5C;\n",
              "      box-shadow: 0px 1px 3px 1px rgba(0, 0, 0, 0.15);\n",
              "      filter: drop-shadow(0px 1px 2px rgba(0, 0, 0, 0.3));\n",
              "      fill: #FFFFFF;\n",
              "    }\n",
              "  </style>\n",
              "\n",
              "      <script>\n",
              "        const buttonEl =\n",
              "          document.querySelector('#df-cdac2cec-43d2-43fa-939e-b782f6a58fc9 button.colab-df-convert');\n",
              "        buttonEl.style.display =\n",
              "          google.colab.kernel.accessAllowed ? 'block' : 'none';\n",
              "\n",
              "        async function convertToInteractive(key) {\n",
              "          const element = document.querySelector('#df-cdac2cec-43d2-43fa-939e-b782f6a58fc9');\n",
              "          const dataTable =\n",
              "            await google.colab.kernel.invokeFunction('convertToInteractive',\n",
              "                                                     [key], {});\n",
              "          if (!dataTable) return;\n",
              "\n",
              "          const docLinkHtml = 'Like what you see? Visit the ' +\n",
              "            '<a target=\"_blank\" href=https://colab.research.google.com/notebooks/data_table.ipynb>data table notebook</a>'\n",
              "            + ' to learn more about interactive tables.';\n",
              "          element.innerHTML = '';\n",
              "          dataTable['output_type'] = 'display_data';\n",
              "          await google.colab.output.renderOutput(dataTable, element);\n",
              "          const docLink = document.createElement('div');\n",
              "          docLink.innerHTML = docLinkHtml;\n",
              "          element.appendChild(docLink);\n",
              "        }\n",
              "      </script>\n",
              "    </div>\n",
              "  </div>\n",
              "  "
            ]
          },
          "metadata": {},
          "execution_count": 23
        }
      ]
    },
    {
      "cell_type": "markdown",
      "source": [
        "7. Check for Categorical columns and perform encoding."
      ],
      "metadata": {
        "id": "bT0IQpDq68AO"
      }
    },
    {
      "cell_type": "code",
      "source": [
        "from sklearn.preprocessing import LabelEncoder"
      ],
      "metadata": {
        "id": "dhM9TO0x67Dm"
      },
      "execution_count": 24,
      "outputs": []
    },
    {
      "cell_type": "code",
      "source": [
        "le=LabelEncoder()"
      ],
      "metadata": {
        "id": "B69ArcpI7En0"
      },
      "execution_count": 25,
      "outputs": []
    },
    {
      "cell_type": "code",
      "source": [
        "# data['Gender']=le.fit_transform(data['Gender'])\n",
        "data['Gender'].replace({'Male':1,\"Female\":0},inplace=True)"
      ],
      "metadata": {
        "id": "dUlbSaEQ7HAL"
      },
      "execution_count": 26,
      "outputs": []
    },
    {
      "cell_type": "code",
      "source": [
        "data.head()"
      ],
      "metadata": {
        "colab": {
          "base_uri": "https://localhost:8080/",
          "height": 206
        },
        "id": "-PtTTTzm7JL-",
        "outputId": "4703bb0c-7560-4954-f230-edd0b41c2ec9"
      },
      "execution_count": 27,
      "outputs": [
        {
          "output_type": "execute_result",
          "data": {
            "text/plain": [
              "   CustomerID  Gender  Age  Annual Income (k$)  Spending Score (1-100)\n",
              "0           1       1   19                  15                      39\n",
              "1           2       1   21                  15                      81\n",
              "2           3       0   20                  16                       6\n",
              "3           4       0   23                  16                      77\n",
              "4           5       0   31                  17                      40"
            ],
            "text/html": [
              "\n",
              "  <div id=\"df-d20b3eac-a15f-488e-b264-d2bc24b64490\">\n",
              "    <div class=\"colab-df-container\">\n",
              "      <div>\n",
              "<style scoped>\n",
              "    .dataframe tbody tr th:only-of-type {\n",
              "        vertical-align: middle;\n",
              "    }\n",
              "\n",
              "    .dataframe tbody tr th {\n",
              "        vertical-align: top;\n",
              "    }\n",
              "\n",
              "    .dataframe thead th {\n",
              "        text-align: right;\n",
              "    }\n",
              "</style>\n",
              "<table border=\"1\" class=\"dataframe\">\n",
              "  <thead>\n",
              "    <tr style=\"text-align: right;\">\n",
              "      <th></th>\n",
              "      <th>CustomerID</th>\n",
              "      <th>Gender</th>\n",
              "      <th>Age</th>\n",
              "      <th>Annual Income (k$)</th>\n",
              "      <th>Spending Score (1-100)</th>\n",
              "    </tr>\n",
              "  </thead>\n",
              "  <tbody>\n",
              "    <tr>\n",
              "      <th>0</th>\n",
              "      <td>1</td>\n",
              "      <td>1</td>\n",
              "      <td>19</td>\n",
              "      <td>15</td>\n",
              "      <td>39</td>\n",
              "    </tr>\n",
              "    <tr>\n",
              "      <th>1</th>\n",
              "      <td>2</td>\n",
              "      <td>1</td>\n",
              "      <td>21</td>\n",
              "      <td>15</td>\n",
              "      <td>81</td>\n",
              "    </tr>\n",
              "    <tr>\n",
              "      <th>2</th>\n",
              "      <td>3</td>\n",
              "      <td>0</td>\n",
              "      <td>20</td>\n",
              "      <td>16</td>\n",
              "      <td>6</td>\n",
              "    </tr>\n",
              "    <tr>\n",
              "      <th>3</th>\n",
              "      <td>4</td>\n",
              "      <td>0</td>\n",
              "      <td>23</td>\n",
              "      <td>16</td>\n",
              "      <td>77</td>\n",
              "    </tr>\n",
              "    <tr>\n",
              "      <th>4</th>\n",
              "      <td>5</td>\n",
              "      <td>0</td>\n",
              "      <td>31</td>\n",
              "      <td>17</td>\n",
              "      <td>40</td>\n",
              "    </tr>\n",
              "  </tbody>\n",
              "</table>\n",
              "</div>\n",
              "      <button class=\"colab-df-convert\" onclick=\"convertToInteractive('df-d20b3eac-a15f-488e-b264-d2bc24b64490')\"\n",
              "              title=\"Convert this dataframe to an interactive table.\"\n",
              "              style=\"display:none;\">\n",
              "        \n",
              "  <svg xmlns=\"http://www.w3.org/2000/svg\" height=\"24px\"viewBox=\"0 0 24 24\"\n",
              "       width=\"24px\">\n",
              "    <path d=\"M0 0h24v24H0V0z\" fill=\"none\"/>\n",
              "    <path d=\"M18.56 5.44l.94 2.06.94-2.06 2.06-.94-2.06-.94-.94-2.06-.94 2.06-2.06.94zm-11 1L8.5 8.5l.94-2.06 2.06-.94-2.06-.94L8.5 2.5l-.94 2.06-2.06.94zm10 10l.94 2.06.94-2.06 2.06-.94-2.06-.94-.94-2.06-.94 2.06-2.06.94z\"/><path d=\"M17.41 7.96l-1.37-1.37c-.4-.4-.92-.59-1.43-.59-.52 0-1.04.2-1.43.59L10.3 9.45l-7.72 7.72c-.78.78-.78 2.05 0 2.83L4 21.41c.39.39.9.59 1.41.59.51 0 1.02-.2 1.41-.59l7.78-7.78 2.81-2.81c.8-.78.8-2.07 0-2.86zM5.41 20L4 18.59l7.72-7.72 1.47 1.35L5.41 20z\"/>\n",
              "  </svg>\n",
              "      </button>\n",
              "      \n",
              "  <style>\n",
              "    .colab-df-container {\n",
              "      display:flex;\n",
              "      flex-wrap:wrap;\n",
              "      gap: 12px;\n",
              "    }\n",
              "\n",
              "    .colab-df-convert {\n",
              "      background-color: #E8F0FE;\n",
              "      border: none;\n",
              "      border-radius: 50%;\n",
              "      cursor: pointer;\n",
              "      display: none;\n",
              "      fill: #1967D2;\n",
              "      height: 32px;\n",
              "      padding: 0 0 0 0;\n",
              "      width: 32px;\n",
              "    }\n",
              "\n",
              "    .colab-df-convert:hover {\n",
              "      background-color: #E2EBFA;\n",
              "      box-shadow: 0px 1px 2px rgba(60, 64, 67, 0.3), 0px 1px 3px 1px rgba(60, 64, 67, 0.15);\n",
              "      fill: #174EA6;\n",
              "    }\n",
              "\n",
              "    [theme=dark] .colab-df-convert {\n",
              "      background-color: #3B4455;\n",
              "      fill: #D2E3FC;\n",
              "    }\n",
              "\n",
              "    [theme=dark] .colab-df-convert:hover {\n",
              "      background-color: #434B5C;\n",
              "      box-shadow: 0px 1px 3px 1px rgba(0, 0, 0, 0.15);\n",
              "      filter: drop-shadow(0px 1px 2px rgba(0, 0, 0, 0.3));\n",
              "      fill: #FFFFFF;\n",
              "    }\n",
              "  </style>\n",
              "\n",
              "      <script>\n",
              "        const buttonEl =\n",
              "          document.querySelector('#df-d20b3eac-a15f-488e-b264-d2bc24b64490 button.colab-df-convert');\n",
              "        buttonEl.style.display =\n",
              "          google.colab.kernel.accessAllowed ? 'block' : 'none';\n",
              "\n",
              "        async function convertToInteractive(key) {\n",
              "          const element = document.querySelector('#df-d20b3eac-a15f-488e-b264-d2bc24b64490');\n",
              "          const dataTable =\n",
              "            await google.colab.kernel.invokeFunction('convertToInteractive',\n",
              "                                                     [key], {});\n",
              "          if (!dataTable) return;\n",
              "\n",
              "          const docLinkHtml = 'Like what you see? Visit the ' +\n",
              "            '<a target=\"_blank\" href=https://colab.research.google.com/notebooks/data_table.ipynb>data table notebook</a>'\n",
              "            + ' to learn more about interactive tables.';\n",
              "          element.innerHTML = '';\n",
              "          dataTable['output_type'] = 'display_data';\n",
              "          await google.colab.output.renderOutput(dataTable, element);\n",
              "          const docLink = document.createElement('div');\n",
              "          docLink.innerHTML = docLinkHtml;\n",
              "          element.appendChild(docLink);\n",
              "        }\n",
              "      </script>\n",
              "    </div>\n",
              "  </div>\n",
              "  "
            ]
          },
          "metadata": {},
          "execution_count": 27
        }
      ]
    },
    {
      "cell_type": "markdown",
      "source": [
        "8. Scaling the data"
      ],
      "metadata": {
        "id": "uELSf_is7Nsa"
      }
    },
    {
      "cell_type": "code",
      "source": [
        "from sklearn.preprocessing import StandardScaler\n",
        "scaler=StandardScaler()\n",
        "scaled_data=scaler.fit_transform(data)\n",
        "scaled_data"
      ],
      "metadata": {
        "colab": {
          "base_uri": "https://localhost:8080/"
        },
        "id": "ijtKlylg7OR4",
        "outputId": "4253ff74-9b47-4aa3-9a1d-dffbbf7cac6e"
      },
      "execution_count": 28,
      "outputs": [
        {
          "output_type": "execute_result",
          "data": {
            "text/plain": [
              "array([[-1.7234121 ,  1.12815215, -1.42456879, -1.73899919, -0.43480148],\n",
              "       [-1.70609137,  1.12815215, -1.28103541, -1.73899919,  1.19570407],\n",
              "       [-1.68877065, -0.88640526, -1.3528021 , -1.70082976, -1.71591298],\n",
              "       [-1.67144992, -0.88640526, -1.13750203, -1.70082976,  1.04041783],\n",
              "       [-1.6541292 , -0.88640526, -0.56336851, -1.66266033, -0.39597992],\n",
              "       [-1.63680847, -0.88640526, -1.20926872, -1.66266033,  1.00159627],\n",
              "       [-1.61948775, -0.88640526, -0.27630176, -1.62449091, -1.71591298],\n",
              "       [-1.60216702, -0.88640526, -1.13750203, -1.62449091,  1.70038436],\n",
              "       [-1.5848463 ,  1.12815215,  1.80493225, -1.58632148, -1.83237767],\n",
              "       [-1.56752558, -0.88640526, -0.6351352 , -1.58632148,  0.84631002],\n",
              "       [-1.55020485,  1.12815215,  2.02023231, -1.58632148, -1.4053405 ],\n",
              "       [-1.53288413, -0.88640526, -0.27630176, -1.58632148,  1.89449216],\n",
              "       [-1.5155634 , -0.88640526,  1.37433211, -1.54815205, -1.36651894],\n",
              "       [-1.49824268, -0.88640526, -1.06573534, -1.54815205,  1.04041783],\n",
              "       [-1.48092195,  1.12815215, -0.13276838, -1.54815205, -1.44416206],\n",
              "       [-1.46360123,  1.12815215, -1.20926872, -1.54815205,  1.11806095],\n",
              "       [-1.4462805 , -0.88640526, -0.27630176, -1.50998262, -0.59008772],\n",
              "       [-1.42895978,  1.12815215, -1.3528021 , -1.50998262,  0.61338066],\n",
              "       [-1.41163905,  1.12815215,  0.94373197, -1.43364376, -0.82301709],\n",
              "       [-1.39431833, -0.88640526, -0.27630176, -1.43364376,  1.8556706 ],\n",
              "       [-1.3769976 ,  1.12815215, -0.27630176, -1.39547433, -0.59008772],\n",
              "       [-1.35967688,  1.12815215, -0.99396865, -1.39547433,  0.88513158],\n",
              "       [-1.34235616, -0.88640526,  0.51313183, -1.3573049 , -1.75473454],\n",
              "       [-1.32503543,  1.12815215, -0.56336851, -1.3573049 ,  0.88513158],\n",
              "       [-1.30771471, -0.88640526,  1.08726535, -1.24279661, -1.4053405 ],\n",
              "       [-1.29039398,  1.12815215, -0.70690189, -1.24279661,  1.23452563],\n",
              "       [-1.27307326, -0.88640526,  0.44136514, -1.24279661, -0.7065524 ],\n",
              "       [-1.25575253,  1.12815215, -0.27630176, -1.24279661,  0.41927286],\n",
              "       [-1.23843181, -0.88640526,  0.08253169, -1.20462718, -0.74537397],\n",
              "       [-1.22111108, -0.88640526, -1.13750203, -1.20462718,  1.42863343],\n",
              "       [-1.20379036,  1.12815215,  1.51786549, -1.16645776, -1.7935561 ],\n",
              "       [-1.18646963, -0.88640526, -1.28103541, -1.16645776,  0.88513158],\n",
              "       [-1.16914891,  1.12815215,  1.01549866, -1.05194947, -1.7935561 ],\n",
              "       [-1.15182818,  1.12815215, -1.49633548, -1.05194947,  1.62274124],\n",
              "       [-1.13450746, -0.88640526,  0.7284319 , -1.05194947, -1.4053405 ],\n",
              "       [-1.11718674, -0.88640526, -1.28103541, -1.05194947,  1.19570407],\n",
              "       [-1.09986601, -0.88640526,  0.22606507, -1.01378004, -1.28887582],\n",
              "       [-1.08254529, -0.88640526, -0.6351352 , -1.01378004,  0.88513158],\n",
              "       [-1.06522456, -0.88640526, -0.20453507, -0.89927175, -0.93948177],\n",
              "       [-1.04790384, -0.88640526, -1.3528021 , -0.89927175,  0.96277471],\n",
              "       [-1.03058311, -0.88640526,  1.87669894, -0.86110232, -0.59008772],\n",
              "       [-1.01326239,  1.12815215, -1.06573534, -0.86110232,  1.62274124],\n",
              "       [-0.99594166,  1.12815215,  0.65666521, -0.82293289, -0.55126616],\n",
              "       [-0.97862094, -0.88640526, -0.56336851, -0.82293289,  0.41927286],\n",
              "       [-0.96130021, -0.88640526,  0.7284319 , -0.82293289, -0.86183865],\n",
              "       [-0.94397949, -0.88640526, -1.06573534, -0.82293289,  0.5745591 ],\n",
              "       [-0.92665877, -0.88640526,  0.80019859, -0.78476346,  0.18634349],\n",
              "       [-0.90933804, -0.88640526, -0.85043527, -0.78476346, -0.12422899],\n",
              "       [-0.89201732, -0.88640526, -0.70690189, -0.78476346, -0.3183368 ],\n",
              "       [-0.87469659, -0.88640526, -0.56336851, -0.78476346, -0.3183368 ],\n",
              "       [-0.85737587, -0.88640526,  0.7284319 , -0.70842461,  0.06987881],\n",
              "       [-0.84005514,  1.12815215, -0.41983513, -0.70842461,  0.38045129],\n",
              "       [-0.82273442, -0.88640526, -0.56336851, -0.67025518,  0.14752193],\n",
              "       [-0.80541369,  1.12815215,  1.4460988 , -0.67025518,  0.38045129],\n",
              "       [-0.78809297, -0.88640526,  0.80019859, -0.67025518, -0.20187212],\n",
              "       [-0.77077224,  1.12815215,  0.58489852, -0.67025518, -0.35715836],\n",
              "       [-0.75345152, -0.88640526,  0.87196528, -0.63208575, -0.00776431],\n",
              "       [-0.73613079,  1.12815215,  2.16376569, -0.63208575, -0.16305055],\n",
              "       [-0.71881007, -0.88640526, -0.85043527, -0.55574689,  0.03105725],\n",
              "       [-0.70148935,  1.12815215,  1.01549866, -0.55574689, -0.16305055],\n",
              "       [-0.68416862,  1.12815215,  2.23553238, -0.55574689,  0.22516505],\n",
              "       [-0.6668479 ,  1.12815215, -1.42456879, -0.55574689,  0.18634349],\n",
              "       [-0.64952717, -0.88640526,  2.02023231, -0.51757746,  0.06987881],\n",
              "       [-0.63220645, -0.88640526,  1.08726535, -0.51757746,  0.34162973],\n",
              "       [-0.61488572,  1.12815215,  1.73316556, -0.47940803,  0.03105725],\n",
              "       [-0.597565  ,  1.12815215, -1.49633548, -0.47940803,  0.34162973],\n",
              "       [-0.58024427, -0.88640526,  0.29783176, -0.47940803, -0.00776431],\n",
              "       [-0.56292355, -0.88640526,  2.091999  , -0.47940803, -0.08540743],\n",
              "       [-0.54560282,  1.12815215, -1.42456879, -0.47940803,  0.34162973],\n",
              "       [-0.5282821 , -0.88640526, -0.49160182, -0.47940803, -0.12422899],\n",
              "       [-0.51096138,  1.12815215,  2.23553238, -0.4412386 ,  0.18634349],\n",
              "       [-0.49364065, -0.88640526,  0.58489852, -0.4412386 , -0.3183368 ],\n",
              "       [-0.47631993, -0.88640526,  1.51786549, -0.40306917, -0.04658587],\n",
              "       [-0.4589992 , -0.88640526,  1.51786549, -0.40306917,  0.22516505],\n",
              "       [-0.44167848,  1.12815215,  1.4460988 , -0.25039146, -0.12422899],\n",
              "       [-0.42435775,  1.12815215, -0.92220196, -0.25039146,  0.14752193],\n",
              "       [-0.40703703, -0.88640526,  0.44136514, -0.25039146,  0.10870037],\n",
              "       [-0.3897163 ,  1.12815215,  0.08253169, -0.25039146, -0.08540743],\n",
              "       [-0.37239558, -0.88640526, -1.13750203, -0.25039146,  0.06987881],\n",
              "       [-0.35507485, -0.88640526,  0.7284319 , -0.25039146, -0.3183368 ],\n",
              "       [-0.33775413,  1.12815215,  1.30256542, -0.25039146,  0.03105725],\n",
              "       [-0.3204334 ,  1.12815215, -0.06100169, -0.25039146,  0.18634349],\n",
              "       [-0.30311268,  1.12815215,  2.02023231, -0.25039146, -0.35715836],\n",
              "       [-0.28579196, -0.88640526,  0.51313183, -0.25039146, -0.24069368],\n",
              "       [-0.26847123, -0.88640526, -1.28103541, -0.25039146,  0.26398661],\n",
              "       [-0.25115051,  1.12815215,  0.65666521, -0.25039146, -0.16305055],\n",
              "       [-0.23382978, -0.88640526,  1.15903204, -0.13588317,  0.30280817],\n",
              "       [-0.21650906, -0.88640526, -1.20926872, -0.13588317,  0.18634349],\n",
              "       [-0.19918833, -0.88640526, -0.34806844, -0.09771374,  0.38045129],\n",
              "       [-0.18186761, -0.88640526,  0.80019859, -0.09771374, -0.16305055],\n",
              "       [-0.16454688, -0.88640526,  2.091999  , -0.05954431,  0.18634349],\n",
              "       [-0.14722616,  1.12815215, -1.49633548, -0.05954431, -0.35715836],\n",
              "       [-0.12990543,  1.12815215,  0.65666521, -0.02137488, -0.04658587],\n",
              "       [-0.11258471, -0.88640526,  0.08253169, -0.02137488, -0.39597992],\n",
              "       [-0.09526399, -0.88640526, -0.49160182, -0.02137488, -0.3183368 ],\n",
              "       [-0.07794326,  1.12815215, -1.06573534, -0.02137488,  0.06987881],\n",
              "       [-0.06062254, -0.88640526,  0.58489852, -0.02137488, -0.12422899],\n",
              "       [-0.04330181, -0.88640526, -0.85043527, -0.02137488, -0.00776431],\n",
              "       [-0.02598109,  1.12815215,  0.65666521,  0.01679455, -0.3183368 ],\n",
              "       [-0.00866036,  1.12815215, -1.3528021 ,  0.01679455, -0.04658587],\n",
              "       [ 0.00866036, -0.88640526, -1.13750203,  0.05496398, -0.35715836],\n",
              "       [ 0.02598109, -0.88640526,  0.7284319 ,  0.05496398, -0.08540743],\n",
              "       [ 0.04330181,  1.12815215,  2.02023231,  0.05496398,  0.34162973],\n",
              "       [ 0.06062254,  1.12815215, -0.92220196,  0.05496398,  0.18634349],\n",
              "       [ 0.07794326,  1.12815215,  0.7284319 ,  0.05496398,  0.22516505],\n",
              "       [ 0.09526399, -0.88640526, -1.28103541,  0.05496398, -0.3183368 ],\n",
              "       [ 0.11258471, -0.88640526,  1.94846562,  0.09313341, -0.00776431],\n",
              "       [ 0.12990543,  1.12815215,  1.08726535,  0.09313341, -0.16305055],\n",
              "       [ 0.14722616,  1.12815215,  2.091999  ,  0.09313341, -0.27951524],\n",
              "       [ 0.16454688,  1.12815215,  1.94846562,  0.09313341, -0.08540743],\n",
              "       [ 0.18186761,  1.12815215,  1.87669894,  0.09313341,  0.06987881],\n",
              "       [ 0.19918833, -0.88640526, -1.42456879,  0.09313341,  0.14752193],\n",
              "       [ 0.21650906, -0.88640526, -0.06100169,  0.13130284, -0.3183368 ],\n",
              "       [ 0.23382978,  1.12815215, -1.42456879,  0.13130284, -0.16305055],\n",
              "       [ 0.25115051, -0.88640526, -1.49633548,  0.16947227, -0.08540743],\n",
              "       [ 0.26847123, -0.88640526, -1.42456879,  0.16947227, -0.00776431],\n",
              "       [ 0.28579196, -0.88640526,  1.73316556,  0.16947227, -0.27951524],\n",
              "       [ 0.30311268, -0.88640526,  0.7284319 ,  0.16947227,  0.34162973],\n",
              "       [ 0.3204334 , -0.88640526,  0.87196528,  0.24581112, -0.27951524],\n",
              "       [ 0.33775413, -0.88640526,  0.80019859,  0.24581112,  0.26398661],\n",
              "       [ 0.35507485,  1.12815215, -0.85043527,  0.24581112,  0.22516505],\n",
              "       [ 0.37239558, -0.88640526, -0.06100169,  0.24581112, -0.39597992],\n",
              "       [ 0.3897163 , -0.88640526,  0.08253169,  0.32214998,  0.30280817],\n",
              "       [ 0.40703703,  1.12815215,  0.010765  ,  0.32214998,  1.58391968],\n",
              "       [ 0.42435775, -0.88640526, -1.13750203,  0.36031941, -0.82301709],\n",
              "       [ 0.44167848, -0.88640526, -0.56336851,  0.36031941,  1.04041783],\n",
              "       [ 0.4589992 ,  1.12815215,  0.29783176,  0.39848884, -0.59008772],\n",
              "       [ 0.47631993,  1.12815215,  0.08253169,  0.39848884,  1.73920592],\n",
              "       [ 0.49364065,  1.12815215,  1.4460988 ,  0.39848884, -1.52180518],\n",
              "       [ 0.51096138,  1.12815215, -0.06100169,  0.39848884,  0.96277471],\n",
              "       [ 0.5282821 ,  1.12815215,  0.58489852,  0.39848884, -1.5994483 ],\n",
              "       [ 0.54560282,  1.12815215,  0.010765  ,  0.39848884,  0.96277471],\n",
              "       [ 0.56292355, -0.88640526, -0.99396865,  0.43665827, -0.62890928],\n",
              "       [ 0.58024427, -0.88640526, -0.56336851,  0.43665827,  0.80748846],\n",
              "       [ 0.597565  ,  1.12815215, -1.3528021 ,  0.4748277 , -1.75473454],\n",
              "       [ 0.61488572, -0.88640526, -0.70690189,  0.4748277 ,  1.46745499],\n",
              "       [ 0.63220645, -0.88640526,  0.36959845,  0.4748277 , -1.67709142],\n",
              "       [ 0.64952717,  1.12815215, -0.49160182,  0.4748277 ,  0.88513158],\n",
              "       [ 0.6668479 ,  1.12815215, -1.42456879,  0.51299713, -1.56062674],\n",
              "       [ 0.68416862, -0.88640526, -0.27630176,  0.51299713,  0.84631002],\n",
              "       [ 0.70148935, -0.88640526,  1.30256542,  0.55116656, -1.75473454],\n",
              "       [ 0.71881007,  1.12815215, -0.49160182,  0.55116656,  1.6615628 ],\n",
              "       [ 0.73613079, -0.88640526, -0.77866858,  0.58933599, -0.39597992],\n",
              "       [ 0.75345152, -0.88640526, -0.49160182,  0.58933599,  1.42863343],\n",
              "       [ 0.77077224,  1.12815215, -0.99396865,  0.62750542, -1.48298362],\n",
              "       [ 0.78809297,  1.12815215, -0.77866858,  0.62750542,  1.81684904],\n",
              "       [ 0.80541369,  1.12815215,  0.65666521,  0.62750542, -0.55126616],\n",
              "       [ 0.82273442, -0.88640526, -0.49160182,  0.62750542,  0.92395314],\n",
              "       [ 0.84005514, -0.88640526, -0.34806844,  0.66567484, -1.09476801],\n",
              "       [ 0.85737587,  1.12815215, -0.34806844,  0.66567484,  1.54509812],\n",
              "       [ 0.87469659,  1.12815215,  0.29783176,  0.66567484, -1.28887582],\n",
              "       [ 0.89201732,  1.12815215,  0.010765  ,  0.66567484,  1.46745499],\n",
              "       [ 0.90933804, -0.88640526,  0.36959845,  0.66567484, -1.17241113],\n",
              "       [ 0.92665877, -0.88640526, -0.06100169,  0.66567484,  1.00159627],\n",
              "       [ 0.94397949, -0.88640526,  0.58489852,  0.66567484, -1.32769738],\n",
              "       [ 0.96130021, -0.88640526, -0.85043527,  0.66567484,  1.50627656],\n",
              "       [ 0.97862094,  1.12815215, -0.13276838,  0.66567484, -1.91002079],\n",
              "       [ 0.99594166, -0.88640526, -0.6351352 ,  0.66567484,  1.07923939],\n",
              "       [ 1.01326239,  1.12815215, -0.34806844,  0.66567484, -1.91002079],\n",
              "       [ 1.03058311, -0.88640526, -0.6351352 ,  0.66567484,  0.88513158],\n",
              "       [ 1.04790384, -0.88640526,  1.23079873,  0.70384427, -0.59008772],\n",
              "       [ 1.06522456, -0.88640526, -0.70690189,  0.70384427,  1.27334719],\n",
              "       [ 1.08254529,  1.12815215, -1.42456879,  0.78018313, -1.75473454],\n",
              "       [ 1.09986601, -0.88640526, -0.56336851,  0.78018313,  1.6615628 ],\n",
              "       [ 1.11718674,  1.12815215,  0.80019859,  0.93286085, -0.93948177],\n",
              "       [ 1.13450746, -0.88640526, -0.20453507,  0.93286085,  0.96277471],\n",
              "       [ 1.15182818,  1.12815215,  0.22606507,  0.97103028, -1.17241113],\n",
              "       [ 1.16914891, -0.88640526, -0.41983513,  0.97103028,  1.73920592],\n",
              "       [ 1.18646963, -0.88640526, -0.20453507,  1.00919971, -0.90066021],\n",
              "       [ 1.20379036,  1.12815215, -0.49160182,  1.00919971,  0.49691598],\n",
              "       [ 1.22111108,  1.12815215,  0.08253169,  1.00919971, -1.44416206],\n",
              "       [ 1.23843181,  1.12815215, -0.77866858,  1.00919971,  0.96277471],\n",
              "       [ 1.25575253,  1.12815215, -0.20453507,  1.00919971, -1.56062674],\n",
              "       [ 1.27307326,  1.12815215, -0.20453507,  1.00919971,  1.62274124],\n",
              "       [ 1.29039398, -0.88640526,  0.94373197,  1.04736914, -1.44416206],\n",
              "       [ 1.30771471, -0.88640526, -0.6351352 ,  1.04736914,  1.38981187],\n",
              "       [ 1.32503543,  1.12815215,  1.37433211,  1.04736914, -1.36651894],\n",
              "       [ 1.34235616,  1.12815215, -0.85043527,  1.04736914,  0.72984534],\n",
              "       [ 1.35967688,  1.12815215,  1.4460988 ,  1.23821628, -1.4053405 ],\n",
              "       [ 1.3769976 ,  1.12815215, -0.27630176,  1.23821628,  1.54509812],\n",
              "       [ 1.39431833, -0.88640526, -0.13276838,  1.390894  , -0.7065524 ],\n",
              "       [ 1.41163905, -0.88640526, -0.49160182,  1.390894  ,  1.38981187],\n",
              "       [ 1.42895978,  1.12815215,  0.51313183,  1.42906343, -1.36651894],\n",
              "       [ 1.4462805 , -0.88640526, -0.70690189,  1.42906343,  1.46745499],\n",
              "       [ 1.46360123, -0.88640526,  0.15429838,  1.46723286, -0.43480148],\n",
              "       [ 1.48092195,  1.12815215, -0.6351352 ,  1.46723286,  1.81684904],\n",
              "       [ 1.49824268, -0.88640526,  1.08726535,  1.54357172, -1.01712489],\n",
              "       [ 1.5155634 ,  1.12815215, -0.77866858,  1.54357172,  0.69102378],\n",
              "       [ 1.53288413, -0.88640526,  0.15429838,  1.61991057, -1.28887582],\n",
              "       [ 1.55020485, -0.88640526, -0.20453507,  1.61991057,  1.35099031],\n",
              "       [ 1.56752558, -0.88640526, -0.34806844,  1.61991057, -1.05594645],\n",
              "       [ 1.5848463 , -0.88640526, -0.49160182,  1.61991057,  0.72984534],\n",
              "       [ 1.60216702,  1.12815215, -0.41983513,  2.00160487, -1.63826986],\n",
              "       [ 1.61948775, -0.88640526, -0.06100169,  2.00160487,  1.58391968],\n",
              "       [ 1.63680847, -0.88640526,  0.58489852,  2.26879087, -1.32769738],\n",
              "       [ 1.6541292 , -0.88640526, -0.27630176,  2.26879087,  1.11806095],\n",
              "       [ 1.67144992, -0.88640526,  0.44136514,  2.49780745, -0.86183865],\n",
              "       [ 1.68877065,  1.12815215, -0.49160182,  2.49780745,  0.92395314],\n",
              "       [ 1.70609137,  1.12815215, -0.49160182,  2.91767117, -1.25005425],\n",
              "       [ 1.7234121 ,  1.12815215, -0.6351352 ,  2.91767117,  1.27334719]])"
            ]
          },
          "metadata": {},
          "execution_count": 28
        }
      ]
    },
    {
      "cell_type": "markdown",
      "source": [
        "9. Perform any of the clustering algorithms"
      ],
      "metadata": {
        "id": "tagySx617UdF"
      }
    },
    {
      "cell_type": "code",
      "source": [
        "from sklearn.cluster import KMeans\n",
        "kmeans=KMeans(n_clusters=5,random_state=42)\n",
        "kmeans.fit(data)"
      ],
      "metadata": {
        "colab": {
          "base_uri": "https://localhost:8080/"
        },
        "id": "QPI-pUQS7Xyh",
        "outputId": "d314d65a-b6c3-4299-8ad5-93c7972fed56"
      },
      "execution_count": 29,
      "outputs": [
        {
          "output_type": "execute_result",
          "data": {
            "text/plain": [
              "KMeans(n_clusters=5, random_state=42)"
            ]
          },
          "metadata": {},
          "execution_count": 29
        }
      ]
    },
    {
      "cell_type": "code",
      "source": [
        "kmeans.labels_"
      ],
      "metadata": {
        "colab": {
          "base_uri": "https://localhost:8080/"
        },
        "id": "GFsTxS5t7bdy",
        "outputId": "bbd7b78a-969d-4ef9-9212-22382feb3b3d"
      },
      "execution_count": 30,
      "outputs": [
        {
          "output_type": "execute_result",
          "data": {
            "text/plain": [
              "array([1, 1, 4, 1, 4, 1, 4, 1, 4, 1, 4, 1, 4, 1, 4, 1, 4, 1, 4, 1, 4, 1,\n",
              "       4, 1, 4, 1, 4, 1, 4, 1, 4, 1, 4, 1, 4, 1, 4, 1, 4, 1, 4, 1, 4, 1,\n",
              "       4, 1, 4, 4, 4, 4, 4, 4, 4, 4, 4, 4, 4, 4, 4, 4, 2, 2, 2, 2, 2, 2,\n",
              "       2, 2, 2, 2, 2, 2, 2, 2, 2, 2, 2, 2, 2, 2, 2, 2, 2, 2, 2, 2, 2, 2,\n",
              "       2, 2, 2, 2, 2, 2, 2, 2, 2, 2, 2, 2, 2, 2, 2, 2, 2, 2, 2, 2, 2, 2,\n",
              "       2, 2, 2, 2, 2, 2, 2, 2, 2, 2, 2, 2, 2, 0, 2, 0, 2, 0, 3, 0, 3, 0,\n",
              "       3, 0, 3, 0, 3, 0, 3, 0, 3, 0, 3, 0, 3, 0, 3, 0, 3, 0, 3, 0, 3, 0,\n",
              "       3, 0, 3, 0, 3, 0, 3, 0, 3, 0, 3, 0, 3, 0, 3, 0, 3, 0, 3, 0, 3, 0,\n",
              "       3, 0, 3, 0, 3, 0, 3, 0, 3, 0, 3, 0, 3, 0, 3, 0, 3, 0, 3, 0, 3, 0,\n",
              "       3, 0], dtype=int32)"
            ]
          },
          "metadata": {},
          "execution_count": 30
        }
      ]
    },
    {
      "cell_type": "code",
      "source": [
        "kmeans.cluster_centers_"
      ],
      "metadata": {
        "colab": {
          "base_uri": "https://localhost:8080/"
        },
        "id": "JKeX4ygo7qob",
        "outputId": "f090a54a-8980-427d-d793-69f3020d6637"
      },
      "execution_count": 31,
      "outputs": [
        {
          "output_type": "execute_result",
          "data": {
            "text/plain": [
              "array([[162.        ,   0.46153846,  32.69230769,  86.53846154,\n",
              "         82.12820513],\n",
              "       [ 23.04166667,   0.41666667,  25.25      ,  25.83333333,\n",
              "         76.91666667],\n",
              "       [ 93.04615385,   0.43076923,  42.96923077,  57.93846154,\n",
              "         49.44615385],\n",
              "       [164.        ,   0.52777778,  40.80555556,  87.91666667,\n",
              "         17.88888889],\n",
              "       [ 35.47222222,   0.36111111,  45.19444444,  32.94444444,\n",
              "         31.47222222]])"
            ]
          },
          "metadata": {},
          "execution_count": 31
        }
      ]
    },
    {
      "cell_type": "markdown",
      "source": [
        "10. Add the cluster data with the primary dataset"
      ],
      "metadata": {
        "id": "w-9uT3ac7u6h"
      }
    },
    {
      "cell_type": "code",
      "source": [
        "data['Cluster']=kmeans.labels_\n",
        "data.head()"
      ],
      "metadata": {
        "colab": {
          "base_uri": "https://localhost:8080/",
          "height": 206
        },
        "id": "BGn6YM2c7wCo",
        "outputId": "e3c8fe36-5a22-406d-f7ae-2af0be11bb8f"
      },
      "execution_count": 32,
      "outputs": [
        {
          "output_type": "execute_result",
          "data": {
            "text/plain": [
              "   CustomerID  Gender  Age  Annual Income (k$)  Spending Score (1-100)  \\\n",
              "0           1       1   19                  15                      39   \n",
              "1           2       1   21                  15                      81   \n",
              "2           3       0   20                  16                       6   \n",
              "3           4       0   23                  16                      77   \n",
              "4           5       0   31                  17                      40   \n",
              "\n",
              "   Cluster  \n",
              "0        1  \n",
              "1        1  \n",
              "2        4  \n",
              "3        1  \n",
              "4        4  "
            ],
            "text/html": [
              "\n",
              "  <div id=\"df-63199d18-25e6-4682-9092-d91e92f72906\">\n",
              "    <div class=\"colab-df-container\">\n",
              "      <div>\n",
              "<style scoped>\n",
              "    .dataframe tbody tr th:only-of-type {\n",
              "        vertical-align: middle;\n",
              "    }\n",
              "\n",
              "    .dataframe tbody tr th {\n",
              "        vertical-align: top;\n",
              "    }\n",
              "\n",
              "    .dataframe thead th {\n",
              "        text-align: right;\n",
              "    }\n",
              "</style>\n",
              "<table border=\"1\" class=\"dataframe\">\n",
              "  <thead>\n",
              "    <tr style=\"text-align: right;\">\n",
              "      <th></th>\n",
              "      <th>CustomerID</th>\n",
              "      <th>Gender</th>\n",
              "      <th>Age</th>\n",
              "      <th>Annual Income (k$)</th>\n",
              "      <th>Spending Score (1-100)</th>\n",
              "      <th>Cluster</th>\n",
              "    </tr>\n",
              "  </thead>\n",
              "  <tbody>\n",
              "    <tr>\n",
              "      <th>0</th>\n",
              "      <td>1</td>\n",
              "      <td>1</td>\n",
              "      <td>19</td>\n",
              "      <td>15</td>\n",
              "      <td>39</td>\n",
              "      <td>1</td>\n",
              "    </tr>\n",
              "    <tr>\n",
              "      <th>1</th>\n",
              "      <td>2</td>\n",
              "      <td>1</td>\n",
              "      <td>21</td>\n",
              "      <td>15</td>\n",
              "      <td>81</td>\n",
              "      <td>1</td>\n",
              "    </tr>\n",
              "    <tr>\n",
              "      <th>2</th>\n",
              "      <td>3</td>\n",
              "      <td>0</td>\n",
              "      <td>20</td>\n",
              "      <td>16</td>\n",
              "      <td>6</td>\n",
              "      <td>4</td>\n",
              "    </tr>\n",
              "    <tr>\n",
              "      <th>3</th>\n",
              "      <td>4</td>\n",
              "      <td>0</td>\n",
              "      <td>23</td>\n",
              "      <td>16</td>\n",
              "      <td>77</td>\n",
              "      <td>1</td>\n",
              "    </tr>\n",
              "    <tr>\n",
              "      <th>4</th>\n",
              "      <td>5</td>\n",
              "      <td>0</td>\n",
              "      <td>31</td>\n",
              "      <td>17</td>\n",
              "      <td>40</td>\n",
              "      <td>4</td>\n",
              "    </tr>\n",
              "  </tbody>\n",
              "</table>\n",
              "</div>\n",
              "      <button class=\"colab-df-convert\" onclick=\"convertToInteractive('df-63199d18-25e6-4682-9092-d91e92f72906')\"\n",
              "              title=\"Convert this dataframe to an interactive table.\"\n",
              "              style=\"display:none;\">\n",
              "        \n",
              "  <svg xmlns=\"http://www.w3.org/2000/svg\" height=\"24px\"viewBox=\"0 0 24 24\"\n",
              "       width=\"24px\">\n",
              "    <path d=\"M0 0h24v24H0V0z\" fill=\"none\"/>\n",
              "    <path d=\"M18.56 5.44l.94 2.06.94-2.06 2.06-.94-2.06-.94-.94-2.06-.94 2.06-2.06.94zm-11 1L8.5 8.5l.94-2.06 2.06-.94-2.06-.94L8.5 2.5l-.94 2.06-2.06.94zm10 10l.94 2.06.94-2.06 2.06-.94-2.06-.94-.94-2.06-.94 2.06-2.06.94z\"/><path d=\"M17.41 7.96l-1.37-1.37c-.4-.4-.92-.59-1.43-.59-.52 0-1.04.2-1.43.59L10.3 9.45l-7.72 7.72c-.78.78-.78 2.05 0 2.83L4 21.41c.39.39.9.59 1.41.59.51 0 1.02-.2 1.41-.59l7.78-7.78 2.81-2.81c.8-.78.8-2.07 0-2.86zM5.41 20L4 18.59l7.72-7.72 1.47 1.35L5.41 20z\"/>\n",
              "  </svg>\n",
              "      </button>\n",
              "      \n",
              "  <style>\n",
              "    .colab-df-container {\n",
              "      display:flex;\n",
              "      flex-wrap:wrap;\n",
              "      gap: 12px;\n",
              "    }\n",
              "\n",
              "    .colab-df-convert {\n",
              "      background-color: #E8F0FE;\n",
              "      border: none;\n",
              "      border-radius: 50%;\n",
              "      cursor: pointer;\n",
              "      display: none;\n",
              "      fill: #1967D2;\n",
              "      height: 32px;\n",
              "      padding: 0 0 0 0;\n",
              "      width: 32px;\n",
              "    }\n",
              "\n",
              "    .colab-df-convert:hover {\n",
              "      background-color: #E2EBFA;\n",
              "      box-shadow: 0px 1px 2px rgba(60, 64, 67, 0.3), 0px 1px 3px 1px rgba(60, 64, 67, 0.15);\n",
              "      fill: #174EA6;\n",
              "    }\n",
              "\n",
              "    [theme=dark] .colab-df-convert {\n",
              "      background-color: #3B4455;\n",
              "      fill: #D2E3FC;\n",
              "    }\n",
              "\n",
              "    [theme=dark] .colab-df-convert:hover {\n",
              "      background-color: #434B5C;\n",
              "      box-shadow: 0px 1px 3px 1px rgba(0, 0, 0, 0.15);\n",
              "      filter: drop-shadow(0px 1px 2px rgba(0, 0, 0, 0.3));\n",
              "      fill: #FFFFFF;\n",
              "    }\n",
              "  </style>\n",
              "\n",
              "      <script>\n",
              "        const buttonEl =\n",
              "          document.querySelector('#df-63199d18-25e6-4682-9092-d91e92f72906 button.colab-df-convert');\n",
              "        buttonEl.style.display =\n",
              "          google.colab.kernel.accessAllowed ? 'block' : 'none';\n",
              "\n",
              "        async function convertToInteractive(key) {\n",
              "          const element = document.querySelector('#df-63199d18-25e6-4682-9092-d91e92f72906');\n",
              "          const dataTable =\n",
              "            await google.colab.kernel.invokeFunction('convertToInteractive',\n",
              "                                                     [key], {});\n",
              "          if (!dataTable) return;\n",
              "\n",
              "          const docLinkHtml = 'Like what you see? Visit the ' +\n",
              "            '<a target=\"_blank\" href=https://colab.research.google.com/notebooks/data_table.ipynb>data table notebook</a>'\n",
              "            + ' to learn more about interactive tables.';\n",
              "          element.innerHTML = '';\n",
              "          dataTable['output_type'] = 'display_data';\n",
              "          await google.colab.output.renderOutput(dataTable, element);\n",
              "          const docLink = document.createElement('div');\n",
              "          docLink.innerHTML = docLinkHtml;\n",
              "          element.appendChild(docLink);\n",
              "        }\n",
              "      </script>\n",
              "    </div>\n",
              "  </div>\n",
              "  "
            ]
          },
          "metadata": {},
          "execution_count": 32
        }
      ]
    },
    {
      "cell_type": "markdown",
      "source": [
        "11. Split the data into dependent and independent\n",
        "variables."
      ],
      "metadata": {
        "id": "uHIkJ8mL71fv"
      }
    },
    {
      "cell_type": "code",
      "source": [
        "x=data.drop('Cluster',axis=1)\n",
        "y=data['Cluster']\n",
        "x,y"
      ],
      "metadata": {
        "colab": {
          "base_uri": "https://localhost:8080/"
        },
        "id": "jK3dXD1g70t9",
        "outputId": "1cf4d798-7346-4b83-f997-2f1c9443438d"
      },
      "execution_count": 33,
      "outputs": [
        {
          "output_type": "execute_result",
          "data": {
            "text/plain": [
              "(     CustomerID  Gender  Age  Annual Income (k$)  Spending Score (1-100)\n",
              " 0             1       1   19                  15                      39\n",
              " 1             2       1   21                  15                      81\n",
              " 2             3       0   20                  16                       6\n",
              " 3             4       0   23                  16                      77\n",
              " 4             5       0   31                  17                      40\n",
              " ..          ...     ...  ...                 ...                     ...\n",
              " 195         196       0   35                 120                      79\n",
              " 196         197       0   45                 126                      28\n",
              " 197         198       1   32                 126                      74\n",
              " 198         199       1   32                 137                      18\n",
              " 199         200       1   30                 137                      83\n",
              " \n",
              " [200 rows x 5 columns], 0      1\n",
              " 1      1\n",
              " 2      4\n",
              " 3      1\n",
              " 4      4\n",
              "       ..\n",
              " 195    0\n",
              " 196    3\n",
              " 197    0\n",
              " 198    3\n",
              " 199    0\n",
              " Name: Cluster, Length: 200, dtype: int32)"
            ]
          },
          "metadata": {},
          "execution_count": 33
        }
      ]
    },
    {
      "cell_type": "markdown",
      "source": [
        "12. Split the data into training and testing"
      ],
      "metadata": {
        "id": "IwS2--HT79z3"
      }
    },
    {
      "cell_type": "code",
      "source": [
        "from sklearn.model_selection import train_test_split\n",
        "x_train,x_test,y_train,y_test=train_test_split(x,y,test_size=0.2,random_state=42)"
      ],
      "metadata": {
        "id": "JcDoXFXn7-lV"
      },
      "execution_count": 34,
      "outputs": []
    },
    {
      "cell_type": "markdown",
      "source": [
        "13. Build the Model"
      ],
      "metadata": {
        "id": "Bu0ySpRg8EwP"
      }
    },
    {
      "cell_type": "code",
      "source": [
        "from sklearn.ensemble import RandomForestClassifier\n",
        "model = RandomForestClassifier()"
      ],
      "metadata": {
        "id": "aokaMaKG8F6a"
      },
      "execution_count": 35,
      "outputs": []
    },
    {
      "cell_type": "markdown",
      "source": [
        "14. Train the Model"
      ],
      "metadata": {
        "id": "nOQEahpd8KhW"
      }
    },
    {
      "cell_type": "code",
      "source": [
        "model.fit(x_train,y_train)"
      ],
      "metadata": {
        "colab": {
          "base_uri": "https://localhost:8080/"
        },
        "id": "gFI3X9Gh8Lhq",
        "outputId": "a8cc6bba-8ca5-4a45-ba87-0c0039a3c899"
      },
      "execution_count": 36,
      "outputs": [
        {
          "output_type": "execute_result",
          "data": {
            "text/plain": [
              "RandomForestClassifier()"
            ]
          },
          "metadata": {},
          "execution_count": 36
        }
      ]
    },
    {
      "cell_type": "markdown",
      "source": [
        "15. Test the Model"
      ],
      "metadata": {
        "id": "Gkiw63fm8QSN"
      }
    },
    {
      "cell_type": "code",
      "source": [
        "pred=model.predict(x_test)\n",
        "pred"
      ],
      "metadata": {
        "colab": {
          "base_uri": "https://localhost:8080/"
        },
        "id": "q9xANiI-8RME",
        "outputId": "592997be-7182-4937-efdc-ef37dfe77a2d"
      },
      "execution_count": 37,
      "outputs": [
        {
          "output_type": "execute_result",
          "data": {
            "text/plain": [
              "array([2, 1, 4, 3, 3, 2, 2, 3, 3, 1, 2, 3, 0, 2, 3, 0, 4, 3, 2, 2, 2, 4,\n",
              "       3, 2, 2, 4, 2, 2, 0, 3, 1, 4, 4, 2, 3, 2, 0, 0, 3, 2], dtype=int32)"
            ]
          },
          "metadata": {},
          "execution_count": 37
        }
      ]
    },
    {
      "cell_type": "markdown",
      "source": [
        "16. Measure the performance using Evaluation Metrics."
      ],
      "metadata": {
        "id": "NeLMMyOs8WfU"
      }
    },
    {
      "cell_type": "code",
      "source": [
        "from sklearn.metrics import accuracy_score\n",
        "print(\"Accuracy:\",accuracy_score(y_test,pred))"
      ],
      "metadata": {
        "colab": {
          "base_uri": "https://localhost:8080/"
        },
        "id": "WlhH5kni8Zcd",
        "outputId": "c83a435f-47ed-4926-951d-0ec4403e4d8e"
      },
      "execution_count": 38,
      "outputs": [
        {
          "output_type": "stream",
          "name": "stdout",
          "text": [
            "Accuracy: 0.975\n"
          ]
        }
      ]
    },
    {
      "cell_type": "code",
      "source": [
        "from sklearn.metrics import confusion_matrix,classification_report\n",
        "print(confusion_matrix(y_test,pred))\n"
      ],
      "metadata": {
        "colab": {
          "base_uri": "https://localhost:8080/"
        },
        "id": "gJE0zJEA8bk4",
        "outputId": "9f2a4463-3f53-45ec-d5a2-e28c32360435"
      },
      "execution_count": 39,
      "outputs": [
        {
          "output_type": "stream",
          "name": "stdout",
          "text": [
            "[[ 5  0  0  0  0]\n",
            " [ 0  3  0  0  0]\n",
            " [ 0  0 15  0  1]\n",
            " [ 0  0  0 11  0]\n",
            " [ 0  0  0  0  5]]\n"
          ]
        }
      ]
    },
    {
      "cell_type": "code",
      "source": [
        "print(classification_report(y_test,pred))"
      ],
      "metadata": {
        "colab": {
          "base_uri": "https://localhost:8080/"
        },
        "id": "8zhTPH038e5i",
        "outputId": "74395e4a-b6c8-41c3-8984-304ff125e0e9"
      },
      "execution_count": 40,
      "outputs": [
        {
          "output_type": "stream",
          "name": "stdout",
          "text": [
            "              precision    recall  f1-score   support\n",
            "\n",
            "           0       1.00      1.00      1.00         5\n",
            "           1       1.00      1.00      1.00         3\n",
            "           2       1.00      0.94      0.97        16\n",
            "           3       1.00      1.00      1.00        11\n",
            "           4       0.83      1.00      0.91         5\n",
            "\n",
            "    accuracy                           0.97        40\n",
            "   macro avg       0.97      0.99      0.98        40\n",
            "weighted avg       0.98      0.97      0.98        40\n",
            "\n"
          ]
        }
      ]
    }
  ]
}